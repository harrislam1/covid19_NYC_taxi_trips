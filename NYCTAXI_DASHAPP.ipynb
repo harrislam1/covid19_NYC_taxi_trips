{
  "nbformat": 4,
  "nbformat_minor": 0,
  "metadata": {
    "colab": {
      "name": "NYCTAXI_DASHAPP.ipynb",
      "provenance": [],
      "authorship_tag": "ABX9TyNu452meL9COI2lMM7pJSe5",
      "include_colab_link": true
    },
    "kernelspec": {
      "name": "python3",
      "display_name": "Python 3"
    },
    "language_info": {
      "name": "python"
    }
  },
  "cells": [
    {
      "cell_type": "markdown",
      "metadata": {
        "id": "view-in-github",
        "colab_type": "text"
      },
      "source": [
        "<a href=\"https://colab.research.google.com/github/harrislam1/covid19_NYC_taxi_trips/blob/EDA_Notebook/NYCTAXI_DASHAPP.ipynb\" target=\"_parent\"><img src=\"https://colab.research.google.com/assets/colab-badge.svg\" alt=\"Open In Colab\"/></a>"
      ]
    },
    {
      "cell_type": "code",
      "metadata": {
        "colab": {
          "base_uri": "https://localhost:8080/"
        },
        "id": "cpPk65C33pNr",
        "outputId": "bafb5d8d-fbc7-4cda-f95e-858b7ea37b23"
      },
      "source": [
        "pip install jupyter-dash -q"
      ],
      "execution_count": null,
      "outputs": [
        {
          "output_type": "stream",
          "name": "stdout",
          "text": [
            "\u001b[K     |████████████████████████████████| 7.3 MB 7.9 MB/s \n",
            "\u001b[K     |████████████████████████████████| 23.9 MB 13 kB/s \n",
            "\u001b[K     |████████████████████████████████| 357 kB 58.5 MB/s \n",
            "\u001b[?25h  Building wheel for dash-core-components (setup.py) ... \u001b[?25l\u001b[?25hdone\n",
            "  Building wheel for dash-html-components (setup.py) ... \u001b[?25l\u001b[?25hdone\n",
            "  Building wheel for dash-table (setup.py) ... \u001b[?25l\u001b[?25hdone\n"
          ]
        }
      ]
    },
    {
      "cell_type": "code",
      "metadata": {
        "colab": {
          "base_uri": "https://localhost:8080/"
        },
        "id": "I_mG8NFi3rTe",
        "outputId": "0ef55f0b-d11f-4ae0-854b-625017d0dab7"
      },
      "source": [
        "import pandas as pd\n",
        "import datetime as dt\n",
        "from jupyter_dash import JupyterDash\n",
        "import dash_html_components as html\n",
        "import dash_core_components as dcc\n",
        "from dash.dependencies import Input, Output\n",
        "import plotly.express as px"
      ],
      "execution_count": null,
      "outputs": [
        {
          "output_type": "stream",
          "name": "stderr",
          "text": [
            "/usr/local/lib/python3.7/dist-packages/ipykernel_launcher.py:4: UserWarning: \n",
            "The dash_html_components package is deprecated. Please replace\n",
            "`import dash_html_components as html` with `from dash import html`\n",
            "  after removing the cwd from sys.path.\n",
            "/usr/local/lib/python3.7/dist-packages/ipykernel_launcher.py:5: UserWarning: \n",
            "The dash_core_components package is deprecated. Please replace\n",
            "`import dash_core_components as dcc` with `from dash import dcc`\n",
            "  \"\"\"\n"
          ]
        }
      ]
    },
    {
      "cell_type": "code",
      "metadata": {
        "colab": {
          "base_uri": "https://localhost:8080/",
          "height": 52
        },
        "id": "qivm0FxC3uMn",
        "outputId": "a36f80a3-90d2-4978-96a5-cbefa462a6bf"
      },
      "source": [
        "yellow_2020url = \"https://nyc-tlc.s3.amazonaws.com/trip+data/yellow_tripdata_2020-\"\n",
        "\n",
        "months = [\"01\", \"02\", \"03\", \"04\", \"05\", \"06\", \"07\", \"08\", \"09\", \"10\", \"11\", \"12\"]\n",
        "months_ = [\"Jan\", \"Feb\", \"Mar\", \"Apr\", \"May\", \"Jun\", \"Jul\", \"Aug\", \"Sep\", \"Oct\", \"Nov\", \"Dec\"]  # TODO: consider renaming this to month_labels?\n",
        "\n",
        "total_distance = []\n",
        "total_fare = []\n",
        "total_tips = []\n",
        "total_taxes = []\n",
        "total_toll = []\n",
        "\n",
        "daily_trip = pd.DataFrame()\n",
        "\n",
        "# TODO: elem not very name; consider renaming\n",
        "for elem in range(len(months)):\n",
        "  month_data = pd.read_csv(f\"{yellow_2020url}{months[elem]}.csv\", iterator=True, chunksize=10000)\n",
        "  month_data = pd.concat(month_data, ignore_index=True)\n",
        "  month_data.drop(month_data.columns[[0,3,5,6,9,11]], axis=1, inplace=True)\n",
        "  month_data['pick_up_date'] = pd.to_datetime(month_data.tpep_pickup_datetime)\n",
        "  month_data['year'] = month_data.pick_up_date.dt.year\n",
        "  month_data['month'] = month_data.pick_up_date.dt.month\n",
        "  month_data = month_data.loc[(month_data.month==elem + 1) & (month_data.year==2020)]\n",
        "\n",
        "  total_distance.append(month_data['trip_distance'].sum())\n",
        "  total_fare.append(month_data['total_amount'].sum())\n",
        "  total_tips.append(month_data['tip_amount'].sum())\n",
        "  total_taxes.append(month_data['mta_tax'].sum())\n",
        "  total_toll.append(month_data['tolls_amount'].sum())\n",
        "\n",
        "  \n",
        "  month_data = month_data.groupby(month_data.pick_up_date.dt.date)['trip_distance'].count().reset_index()\n",
        "  month_data.rename(columns={'pick_up_date':'Date','trip_distance':'Counts'},inplace=True )\n",
        "  daily_trip = pd.concat([daily_trip, month_data], ignore_index=True)\n",
        "\n",
        "\n",
        "# TODO: rename test_df\n",
        "test_df = pd.DataFrame({'months': months_,\n",
        "                        'Total Distance Travelled(miles)': total_distance,\n",
        "                        'Total Fare Collected($ USD)': total_fare,\n",
        "                        'Total Tips Collected ($ USD)': total_tips,\n",
        "                        'Total MTA Taxes Collected ($ USD)': total_taxes,\n",
        "                        'Total Toll Amount Collected ($ USD)': total_toll})\n",
        "\n",
        "test_df.set_index('months', inplace=True)\n",
        "\n",
        "# TODO: consider making 2020-03-07 a global variable to make logic more clear\n",
        "# Build App(Displaying both graphs, include Dropdown menu for second graph)\n",
        "app = JupyterDash(__name__)\n",
        "fig1 = px.line(daily_trip, x='Date', y='Counts', title='Daily Trips for Yellow Cabs in 2020').update_layout(\n",
        "    shapes=[dict(type= 'line', yref= 'paper', y0= 0, y1= 1,xref= 'x', x0= \"2020-03-07\", x1= \"2020-03-07\")]).add_annotation(\n",
        "        x=\"2020-03-07\",text='State of emergency declared')\n",
        "\n",
        "app.layout = html.Div(children=[\n",
        "    # All elements from the top of the page\n",
        "    html.Div([\n",
        "        html.H1(children=\"Effect of COVID-19 on NYC's Yellow Cabs in 2020\"),\n",
        "        dcc.Graph(\n",
        "            id='graph1',\n",
        "            figure=fig1\n",
        "        ),  \n",
        "    ]),\n",
        "    # New Div for all elements in the new 'row' of the page\n",
        "    html.Div([\n",
        "        html.Label([\"Options\", dcc.Dropdown(id='amount-dropdown',value='Total Distance Travelled(miles)',\n",
        "                  clearable=False, options=[{'label': c, 'value': c} for c in test_df.columns])]), \n",
        "              dcc.Graph(id='graph2')  \n",
        "    ])\n",
        "])\n",
        "\n",
        "\n",
        "# Define callback to update graph\n",
        "@app.callback(\n",
        "    Output('graph2','figure'),\n",
        "    [Input(\"amount-dropdown\", \"value\")]\n",
        ")\n",
        "def update_figure(selected_amount):\n",
        "  return px.line(x=test_df.index,y=test_df[selected_amount], title=f\"Monthly {selected_amount} for Yellow Cabs in 2020\",labels={\n",
        "              \"x\": \"Month\",\"y\": f\"{selected_amount}\"}).update_layout(shapes=\n",
        "              [dict(type= 'line', yref= 'paper', y0= 0, y1= 1,xref= 'x', x0= 2.1, x1= 2.1)]).add_annotation(\n",
        "                  x=2.1,text='State of emergency declared')\n",
        "\n",
        "# Run app and display url result inline in the notebook so you can click url\n",
        "if __name__=='__main__':\n",
        "  app.run_server(debug=True)"
      ],
      "execution_count": null,
      "outputs": [
        {
          "output_type": "stream",
          "name": "stdout",
          "text": [
            "Dash app running on:\n"
          ]
        },
        {
          "output_type": "display_data",
          "data": {
            "application/javascript": [
              "(async (port, path, text, element) => {\n",
              "    if (!google.colab.kernel.accessAllowed) {\n",
              "      return;\n",
              "    }\n",
              "    element.appendChild(document.createTextNode(''));\n",
              "    const url = await google.colab.kernel.proxyPort(port);\n",
              "    const anchor = document.createElement('a');\n",
              "    anchor.href = new URL(path, url).toString();\n",
              "    anchor.target = '_blank';\n",
              "    anchor.setAttribute('data-href', url + path);\n",
              "    anchor.textContent = text;\n",
              "    element.appendChild(anchor);\n",
              "  })(8050, \"/\", \"http://127.0.0.1:8050/\", window.element)"
            ],
            "text/plain": [
              "<IPython.core.display.Javascript object>"
            ]
          },
          "metadata": {}
        }
      ]
    },
    {
      "cell_type": "code",
      "metadata": {
        "id": "X0MUh_8H4ZMU"
      },
      "source": [
        "#daily_trip.to_csv(\"daily_trip2020.csv\", index=False)"
      ],
      "execution_count": null,
      "outputs": []
    },
    {
      "cell_type": "code",
      "metadata": {
        "id": "RppuKW8D4Z62"
      },
      "source": [
        "#test_df.to_csv(\"Monthly_stats2020.csv\", index=False)"
      ],
      "execution_count": null,
      "outputs": []
    }
  ]
}